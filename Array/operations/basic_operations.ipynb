{
 "cells": [
  {
   "cell_type": "code",
   "execution_count": 2,
   "metadata": {},
   "outputs": [],
   "source": [
    "# insert\n",
    "\n",
    "def inset_element(arr, element, index):\n",
    "    arr.append(None)\n",
    "    for i in range(len(arr)-1, index, -1):\n",
    "        arr[i] = arr[i-1]\n",
    "    arr[index] = element"
   ]
  },
  {
   "cell_type": "code",
   "execution_count": 4,
   "metadata": {},
   "outputs": [
    {
     "data": {
      "text/plain": [
       "[1, 2, 4, 5, 6, 7, 8, 9, 10, 11]"
      ]
     },
     "execution_count": 4,
     "metadata": {},
     "output_type": "execute_result"
    }
   ],
   "source": [
    "# delete\n",
    "\n",
    "def delete_elem(arr, index):\n",
    "    return arr[:index] + arr[index+1:]\n",
    "\n",
    "# deleting\n",
    "arr = [1,2,3,4,5,6,7,8,9,10,11]\n",
    "delete_elem(arr, 2)"
   ]
  },
  {
   "cell_type": "code",
   "execution_count": 5,
   "metadata": {},
   "outputs": [],
   "source": [
    "# update\n",
    "\n",
    "def update(arr, index, value):\n",
    "    if 0 <= index < len(arr):\n",
    "        arr[index] = value"
   ]
  },
  {
   "cell_type": "code",
   "execution_count": 7,
   "metadata": {},
   "outputs": [
    {
     "data": {
      "text/plain": [
       "[9, 8, 7, 6, 5, 4, 3, 2, 1]"
      ]
     },
     "execution_count": 7,
     "metadata": {},
     "output_type": "execute_result"
    }
   ],
   "source": [
    "# reverse\n",
    "\n",
    "def reverse(arr):\n",
    "    for i in range(len(arr)//2):\n",
    "        arr[i], arr[-i-1] = arr[-i - 1], arr[i]\n",
    "        \n",
    "arr = [i for i in range(1 ,10)]\n",
    "reverse(arr)\n",
    "arr"
   ]
  }
 ],
 "metadata": {
  "kernelspec": {
   "display_name": "Python 3",
   "language": "python",
   "name": "python3"
  },
  "language_info": {
   "codemirror_mode": {
    "name": "ipython",
    "version": 3
   },
   "file_extension": ".py",
   "mimetype": "text/x-python",
   "name": "python",
   "nbconvert_exporter": "python",
   "pygments_lexer": "ipython3",
   "version": "3.10.12"
  }
 },
 "nbformat": 4,
 "nbformat_minor": 2
}
