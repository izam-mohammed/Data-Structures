{
 "cells": [
  {
   "cell_type": "code",
   "execution_count": 13,
   "metadata": {},
   "outputs": [],
   "source": [
    "# the insertion sort\n",
    "\n",
    "def sort_insert(arr, print_val=False):\n",
    "    for i in range(1, len(arr)): # starting from 1 because 0 is already sorted\n",
    "        key = arr[i]\n",
    "        j = i-1\n",
    "        \n",
    "        while j >= 0 and key < arr[j]:\n",
    "            arr[j + 1] = arr[j]\n",
    "            j -= 1\n",
    "        \n",
    "        arr[j+1] = key\n",
    "        \n",
    "        if print_val: \n",
    "            print(f'arr - {arr}\\n')\n",
    "            print(f'putting value {key} into the postion of {j+2}')\n",
    "            "
   ]
  },
  {
   "cell_type": "code",
   "execution_count": 14,
   "metadata": {},
   "outputs": [],
   "source": [
    "# array\n",
    "\n",
    "arr = [2,5,1,32,4,8,5,9,2]"
   ]
  },
  {
   "cell_type": "code",
   "execution_count": 15,
   "metadata": {},
   "outputs": [
    {
     "name": "stdout",
     "output_type": "stream",
     "text": [
      "arr - [2, 5, 1, 32, 4, 8, 5, 9, 2]\n",
      "\n",
      "putting value 5 into the postion of 2\n",
      "arr - [1, 2, 5, 32, 4, 8, 5, 9, 2]\n",
      "\n",
      "putting value 1 into the postion of 1\n",
      "arr - [1, 2, 5, 32, 4, 8, 5, 9, 2]\n",
      "\n",
      "putting value 32 into the postion of 4\n",
      "arr - [1, 2, 4, 5, 32, 8, 5, 9, 2]\n",
      "\n",
      "putting value 4 into the postion of 3\n",
      "arr - [1, 2, 4, 5, 8, 32, 5, 9, 2]\n",
      "\n",
      "putting value 8 into the postion of 5\n",
      "arr - [1, 2, 4, 5, 5, 8, 32, 9, 2]\n",
      "\n",
      "putting value 5 into the postion of 5\n",
      "arr - [1, 2, 4, 5, 5, 8, 9, 32, 2]\n",
      "\n",
      "putting value 9 into the postion of 7\n",
      "arr - [1, 2, 2, 4, 5, 5, 8, 9, 32]\n",
      "\n",
      "putting value 2 into the postion of 3\n"
     ]
    },
    {
     "data": {
      "text/plain": [
       "[1, 2, 2, 4, 5, 5, 8, 9, 32]"
      ]
     },
     "execution_count": 15,
     "metadata": {},
     "output_type": "execute_result"
    }
   ],
   "source": [
    "# sort\n",
    "\n",
    "sort_insert(arr, print_val=True)\n",
    "arr"
   ]
  }
 ],
 "metadata": {
  "kernelspec": {
   "display_name": "Python 3",
   "language": "python",
   "name": "python3"
  },
  "language_info": {
   "codemirror_mode": {
    "name": "ipython",
    "version": 3
   },
   "file_extension": ".py",
   "mimetype": "text/x-python",
   "name": "python",
   "nbconvert_exporter": "python",
   "pygments_lexer": "ipython3",
   "version": "3.10.12"
  }
 },
 "nbformat": 4,
 "nbformat_minor": 2
}
