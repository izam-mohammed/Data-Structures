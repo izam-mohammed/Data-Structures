{
 "cells": [
  {
   "cell_type": "code",
   "execution_count": 4,
   "metadata": {},
   "outputs": [],
   "source": [
    "# array\n",
    "\n",
    "arr = [i for i in range(20)]\n",
    "value_to_find = 5"
   ]
  },
  {
   "cell_type": "code",
   "execution_count": 5,
   "metadata": {},
   "outputs": [],
   "source": [
    "# binary search\n",
    "\n",
    "def binary_search(arr, val):\n",
    "    left, right = 0, len(arr) -1\n",
    "    \n",
    "    while (left < right):\n",
    "        mid = (left + right) // 2\n",
    "        \n",
    "        if arr[mid] == val:\n",
    "            return mid\n",
    "        elif val > arr[mid]:\n",
    "            left  = mid\n",
    "        else:\n",
    "            right = mid\n",
    "        \n",
    "    # if not found\n",
    "    return -1"
   ]
  },
  {
   "cell_type": "code",
   "execution_count": 6,
   "metadata": {},
   "outputs": [
    {
     "name": "stdout",
     "output_type": "stream",
     "text": [
      "value found in 6 th position\n"
     ]
    }
   ],
   "source": [
    "# searching\n",
    "\n",
    "index = binary_search(arr, value_to_find)\n",
    "\n",
    "if index == -1:\n",
    "    print('value not found in array')\n",
    "else:\n",
    "    print(f'value found in {index + 1} th position')"
   ]
  }
 ],
 "metadata": {
  "kernelspec": {
   "display_name": "Python 3",
   "language": "python",
   "name": "python3"
  },
  "language_info": {
   "codemirror_mode": {
    "name": "ipython",
    "version": 3
   },
   "file_extension": ".py",
   "mimetype": "text/x-python",
   "name": "python",
   "nbconvert_exporter": "python",
   "pygments_lexer": "ipython3",
   "version": "3.10.12"
  }
 },
 "nbformat": 4,
 "nbformat_minor": 2
}
