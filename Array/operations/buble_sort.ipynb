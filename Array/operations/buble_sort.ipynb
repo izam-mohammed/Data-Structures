{
 "cells": [
  {
   "cell_type": "code",
   "execution_count": 3,
   "metadata": {},
   "outputs": [],
   "source": [
    "# bubble sort\n",
    "\n",
    "def bubble_sort(arr):\n",
    "    n = len(arr)\n",
    "    \n",
    "    for i in range(n):\n",
    "        \n",
    "        for j in range(n - 1 - i):\n",
    "            if arr[j] > arr[j + 1]:\n",
    "                arr[j], arr[j+1] = arr[j+1], arr[j]  # swapping"
   ]
  },
  {
   "cell_type": "code",
   "execution_count": 4,
   "metadata": {},
   "outputs": [
    {
     "data": {
      "text/plain": [
       "[1, 2, 3, 4, 6, 7, 7, 7, 26]"
      ]
     },
     "execution_count": 4,
     "metadata": {},
     "output_type": "execute_result"
    }
   ],
   "source": [
    "# sorting\n",
    "\n",
    "arr = [6,4,26,7,3,2,7,1,7]\n",
    "bubble_sort(arr)\n",
    "arr"
   ]
  },
  {
   "cell_type": "code",
   "execution_count": 6,
   "metadata": {},
   "outputs": [],
   "source": [
    "# an optimized one\n",
    "\n",
    "def bubble_sort_new(arr): \n",
    "    n = len(arr)\n",
    "    \n",
    "    for i in range(n):\n",
    "        # creating this variable for checking whether it is already optimized\n",
    "        swaped = False\n",
    "        \n",
    "        for j in range(n -i -1):\n",
    "            if arr[j]>arr[j+1]:\n",
    "                arr[j], arr[j+1] = arr[j+1], arr[j]\n",
    "                swaped = True\n",
    "                \n",
    "        # if no swap occurs then arr is already sorted\n",
    "        if not swaped:\n",
    "            break"
   ]
  },
  {
   "cell_type": "code",
   "execution_count": 7,
   "metadata": {},
   "outputs": [
    {
     "data": {
      "text/plain": [
       "[1, 2, 3, 4, 6, 7, 7, 7, 26]"
      ]
     },
     "execution_count": 7,
     "metadata": {},
     "output_type": "execute_result"
    }
   ],
   "source": [
    "# sorting\n",
    "\n",
    "arr = [6,4,26,7,3,2,7,1,7]\n",
    "bubble_sort_new(arr)\n",
    "arr"
   ]
  }
 ],
 "metadata": {
  "kernelspec": {
   "display_name": "Python 3",
   "language": "python",
   "name": "python3"
  },
  "language_info": {
   "codemirror_mode": {
    "name": "ipython",
    "version": 3
   },
   "file_extension": ".py",
   "mimetype": "text/x-python",
   "name": "python",
   "nbconvert_exporter": "python",
   "pygments_lexer": "ipython3",
   "version": "3.10.12"
  }
 },
 "nbformat": 4,
 "nbformat_minor": 2
}
